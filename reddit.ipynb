{
 "cells": [
  {
   "cell_type": "code",
   "execution_count": null,
   "metadata": {},
   "outputs": [],
   "source": [
    "import praw\n",
    "import os\n",
    "import ast\n",
    "from pprint import pprint\n",
    "import json\n",
    "from vaderSentiment.vaderSentiment import SentimentIntensityAnalyzer\n",
    "import numpy as np"
   ]
  },
  {
   "cell_type": "code",
   "execution_count": null,
   "metadata": {},
   "outputs": [],
   "source": [
    "creds = ast.literal_eval(os.environ['REDDIT_CREDS'])"
   ]
  },
  {
   "cell_type": "code",
   "execution_count": null,
   "metadata": {},
   "outputs": [],
   "source": [
    "reddit = praw.Reddit(client_id=creds['client_id'],\n",
    "                     client_secret=creds['client_secret'],\n",
    "                     user_agent=creds['user_agent'],\n",
    "                     username=creds['username'],\n",
    "                     password=creds['password'])"
   ]
  },
  {
   "cell_type": "code",
   "execution_count": null,
   "metadata": {},
   "outputs": [],
   "source": [
    "with open('data.json') as datafile:\n",
    "    celebs = json.load(datafile)"
   ]
  },
  {
   "cell_type": "code",
   "execution_count": null,
   "metadata": {},
   "outputs": [],
   "source": [
    "for celeb in celebs:\n",
    "    \n",
    "    profile = reddit.redditor(celebs[celeb]['username'])\n",
    "    top_comments = profile.comments.top(limit=None)\n",
    "    \n",
    "    comments = []\n",
    "    \n",
    "    compound_list = []\n",
    "    positive_list = []\n",
    "    negative_list = []\n",
    "    neutral_list = []\n",
    "    \n",
    "    score_list = []\n",
    "    ups_list = []\n",
    "    downs_list = []\n",
    "    \n",
    "    comment_lengths = []\n",
    "    \n",
    "    for comment in top_comments:\n",
    "        \n",
    "        comment_data = {}\n",
    "        \n",
    "        comment_data['text'] = comment.body\n",
    "        \n",
    "        analyzer = SentimentIntensityAnalyzer()\n",
    "        results = analyzer.polarity_scores(comment.body)\n",
    "        comment['vader'] = results\n",
    "        \n",
    "        compound_list.append(results['compound'])\n",
    "        positive_list.append(results[\"pos\"])\n",
    "        negative_list.append(results[\"neg\"])\n",
    "        neutral_list.append(results[\"neu\"])\n",
    "        \n",
    "        comment['length'] = len(comment['text'])\n",
    "        comment_lengths.append(len(comment['text']))\n",
    "        comment['timestampUTC'] = comment.created_utc\n",
    "        \n",
    "        comment['score'] = {\n",
    "            'compound': comment.score,\n",
    "            'ups': comment.ups,\n",
    "            'downs': comment.downs\n",
    "        }\n",
    "        \n",
    "        score_list.append(comment.score)\n",
    "        ups_list.append(comment.ups)\n",
    "        dowwns_list.append(comment.downs)\n",
    "        \n",
    "        comment['subreddit'] = comment.subreddit_name_prefixed\n",
    "        \n",
    "        comments.append(comment_data)\n",
    "\n",
    "\n",
    "    celebs[celeb]['comments'] = comments\n",
    "\n",
    "    celeb['vader'] = {\n",
    "        'compound': np.mean(compound_list), \n",
    "        'neg': np.mean(negative_list), \n",
    "        'neu': np.mean(neutral_list), \n",
    "        'pos': np.mean(positive_list)\n",
    "    }\n",
    "    \n",
    "    celeb['commentCount'] = len(celebs[celeb]['comments'])\n",
    "    celeb['avgCommentLenth'] = np.mean(comment_lengths)\n",
    "    celeb['avgScore'] = {\n",
    "        'compound':mp.mean(score_list), \n",
    "        'ups': mp.mean(ups_list), \n",
    "        'douns': mp.mean(downs_list)\n",
    "    }"
   ]
  },
  {
   "cell_type": "code",
   "execution_count": null,
   "metadata": {},
   "outputs": [],
   "source": [
    "with open('data.json', 'w') as datafile:\n",
    "    json.dump(celebs, datafile)"
   ]
  },
  {
   "cell_type": "code",
   "execution_count": null,
   "metadata": {},
   "outputs": [],
   "source": []
  },
  {
   "cell_type": "code",
   "execution_count": null,
   "metadata": {},
   "outputs": [],
   "source": []
  },
  {
   "cell_type": "code",
   "execution_count": null,
   "metadata": {},
   "outputs": [],
   "source": []
  },
  {
   "cell_type": "code",
   "execution_count": null,
   "metadata": {},
   "outputs": [],
   "source": []
  }
 ],
 "metadata": {
  "kernelspec": {
   "display_name": "Python 3",
   "language": "python",
   "name": "python3"
  },
  "language_info": {
   "codemirror_mode": {
    "name": "ipython",
    "version": 3
   },
   "file_extension": ".py",
   "mimetype": "text/x-python",
   "name": "python",
   "nbconvert_exporter": "python",
   "pygments_lexer": "ipython3",
   "version": "3.6.5"
  }
 },
 "nbformat": 4,
 "nbformat_minor": 2
}
